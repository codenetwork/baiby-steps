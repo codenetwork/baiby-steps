{
 "cells": [
  {
   "cell_type": "code",
   "execution_count": 1,
   "id": "099248de",
   "metadata": {},
   "outputs": [],
   "source": [
    "import sys\n",
    "import os\n",
    "sys.path.insert(0, 'envs')\n",
    "from stable_baselines3 import PPO\n",
    "from envs.simple_biped_env import simpleBipedEnv\n",
    "from stable_baselines3.common.vec_env import DummyVecEnv\n",
    "import gymnasium as gym\n",
    "from gymnasium.envs.registration import register\n",
    "from stable_baselines3.common.callbacks import BaseCallback\n",
    "\n",
    "from simple_biped_env import simpleBipedEnv\n",
    "\n",
    "register(\n",
    "    id='simpleBiped-v0',\n",
    "    entry_point='envs.simple_biped_env:simpleBipedEnv',\n",
    "    max_episode_steps=10000,\n",
    ")"
   ]
  },
  {
   "cell_type": "code",
   "execution_count": 2,
   "id": "cb5b9438",
   "metadata": {},
   "outputs": [],
   "source": [
    "env = gym.make('simpleBiped-v0')"
   ]
  },
  {
   "cell_type": "code",
   "execution_count": 3,
   "id": "f1b7b297",
   "metadata": {},
   "outputs": [
    {
     "data": {
      "text/plain": [
       "(array([0., 0., 0., 0., 0., 0., 0., 0., 0., 0., 1., 0., 0., 0.],\n",
       "       dtype=float32),\n",
       " {})"
      ]
     },
     "execution_count": 3,
     "metadata": {},
     "output_type": "execute_result"
    }
   ],
   "source": [
    "env.reset(seed=42)"
   ]
  },
  {
   "cell_type": "code",
   "execution_count": 4,
   "id": "13a6a47d",
   "metadata": {},
   "outputs": [],
   "source": [
    "#env.close()"
   ]
  },
  {
   "cell_type": "code",
   "execution_count": 5,
   "id": "48a4419e",
   "metadata": {},
   "outputs": [
    {
     "name": "stdout",
     "output_type": "stream",
     "text": [
      "Total Reward for episode 0 is -295.70195815462625\n",
      "Total Reward for episode 1 is -287.5987961063559\n",
      "Total Reward for episode 2 is -268.53991466547734\n",
      "Total Reward for episode 3 is -274.2020253562979\n",
      "Total Reward for episode 4 is -276.851828102785\n"
     ]
    }
   ],
   "source": [
    "for episode in range(5):\n",
    "    obs, info = env.reset(seed=42)\n",
    "    terminated = False\n",
    "    total_reward = 0\n",
    "    while not terminated:\n",
    "        obs, reward, terminated, truncated, info = env.step(env.action_space.sample())\n",
    "        total_reward += reward\n",
    "    print(f\"Total Reward for episode {episode} is {total_reward}\")"
   ]
  },
  {
   "cell_type": "code",
   "execution_count": 6,
   "id": "67af0a72",
   "metadata": {},
   "outputs": [],
   "source": [
    "class TrainAndLoggingCallback(BaseCallback):\n",
    "    def __init__(self, check_freq, save_path, verbose=1):\n",
    "        super(TrainAndLoggingCallback, self).__init__(verbose)\n",
    "        self.check_freq = check_freq\n",
    "        self.save_path = save_path\n",
    "\n",
    "    def _init_callback(self):\n",
    "        if self.save_path is not None:\n",
    "            os.makedirs(self.save_path, exist_ok=True)\n",
    "\n",
    "    def _on_step(self):\n",
    "        if self.n_calls % self.check_freq == 0:\n",
    "            model_path = os.path.join(\n",
    "                self.save_path, \"best_model_{}\".format(self.n_calls)\n",
    "            )\n",
    "            self.model.save(model_path)\n",
    "\n",
    "        return True"
   ]
  },
  {
   "cell_type": "code",
   "execution_count": 7,
   "id": "ee770a80",
   "metadata": {},
   "outputs": [],
   "source": [
    "CHECKPOINT_DIR = \"./train/\"\n",
    "LOG_DIR = \"./logs/\""
   ]
  },
  {
   "cell_type": "code",
   "execution_count": 8,
   "id": "272f9520",
   "metadata": {},
   "outputs": [],
   "source": [
    "callback = TrainAndLoggingCallback(check_freq=1000, save_path=CHECKPOINT_DIR)"
   ]
  },
  {
   "cell_type": "code",
   "execution_count": 9,
   "id": "b055e2b0",
   "metadata": {},
   "outputs": [],
   "source": [
    "model = PPO(\"MlpPolicy\", env, tensorboard_log=LOG_DIR)"
   ]
  },
  {
   "cell_type": "code",
   "execution_count": null,
   "id": "d65e0761",
   "metadata": {},
   "outputs": [],
   "source": [
    "model.learn(total_timesteps=10000000, callback=callback)\n",
    "model.save(\"pb_10000000_steps_ppo\")"
   ]
  },
  {
   "cell_type": "code",
   "execution_count": null,
   "id": "651f8288",
   "metadata": {},
   "outputs": [],
   "source": [
    "env = gym.make('simpleBiped-v0', render_mode=\"human\")\n",
    "env.reset(seed=42)\n",
    "model = DDPG.load(os.path.join(\"pb_10000000_steps\"))"
   ]
  },
  {
   "cell_type": "code",
   "execution_count": null,
   "id": "7036bdab",
   "metadata": {},
   "outputs": [],
   "source": [
    "env.render()"
   ]
  },
  {
   "cell_type": "code",
   "execution_count": null,
   "id": "7894f24c",
   "metadata": {},
   "outputs": [],
   "source": [
    "\n",
    "for episode in range(3):\n",
    "    obs, info = env.reset()\n",
    "    terminated = False\n",
    "    total_reward = 0\n",
    "    while not terminated:\n",
    "        action, states = model.predict(obs)\n",
    "        print(action)\n",
    "        obs, reward, terminated, truncated, info = env.step(action)\n",
    "        total_reward += reward\n",
    "    print(f\"Total Reward for episode {episode} is {total_reward}\")\n"
   ]
  },
  {
   "cell_type": "code",
   "execution_count": null,
   "id": "a72ae79e",
   "metadata": {},
   "outputs": [],
   "source": [
    "env.close()"
   ]
  }
 ],
 "metadata": {
  "kernelspec": {
   "display_name": "Python 3",
   "language": "python",
   "name": "python3"
  },
  "language_info": {
   "codemirror_mode": {
    "name": "ipython",
    "version": 3
   },
   "file_extension": ".py",
   "mimetype": "text/x-python",
   "name": "python",
   "nbconvert_exporter": "python",
   "pygments_lexer": "ipython3",
   "version": "3.13.3"
  }
 },
 "nbformat": 4,
 "nbformat_minor": 5
}
